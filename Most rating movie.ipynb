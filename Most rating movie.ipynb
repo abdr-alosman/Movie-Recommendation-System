{
 "cells": [
  {
   "cell_type": "code",
   "execution_count": 1,
   "metadata": {},
   "outputs": [],
   "source": [
    "import numpy as np # linear algebra\n",
    "import pandas as pd # data processing\n",
    "\n",
    "anime = pd.read_csv('anime.csv') #verileri okuma\n",
    "rating = pd.read_csv('rating.csv',encoding = \"latin-1\")"
   ]
  },
  {
   "cell_type": "code",
   "execution_count": 2,
   "metadata": {},
   "outputs": [
    {
     "name": "stdout",
     "output_type": "stream",
     "text": [
      "[-1 10  8  6  9  7  3  5  4  1  2]\n",
      "          nulls\n",
      "user_id       0\n",
      "anime_id      0\n",
      "rating        0\n",
      "name          0\n",
      "genre        88\n",
      "type          4\n",
      "episodes      0\n",
      "members       0\n",
      "[10  6  2  7  9  8  4  5  3  1]\n",
      "          nulls\n",
      "user_id       0\n",
      "anime_id      0\n",
      "rating        0\n",
      "name          0\n",
      "genre         0\n",
      "type          0\n",
      "episodes      0\n",
      "members       0\n"
     ]
    }
   ],
   "source": [
    "print(rating.rating.unique())  \n",
    "new_rating=rating[rating.rating!=-1]  #rating sütündeki -1 leri silme\n",
    "df_rating = pd.merge(new_rating,anime.drop('rating',axis=1),on='anime_id') #iki dosyayı birliştirme\n",
    " \n",
    "\n",
    "print(df_rating.isnull().sum().to_frame('nulls'))  #sütünlerde eksik veri (nan) kontrolu \n",
    "df_rating = df_rating.astype({\"name\":'category',\"genre\":'category',\"episodes\":'category','type':'category' }) \n",
    "\n",
    "#genre eksik verilerini doldurmak için  (Interpolation kullanıldı)\n",
    "genre=df_rating[\"genre\"].value_counts()\n",
    "df_rating[\"genre\"]=(df_rating[\"genre\"].cat.codes.replace(-1, np.nan).interpolate().astype(int).astype('category').cat.rename_categories(df_rating[\"genre\"].cat.categories))\n",
    "#type eksik verilerini doldurmak için (Interpolation kullanıldı)\n",
    "typee=df_rating[\"type\"].value_counts()\n",
    "df_rating[\"type\"]=(df_rating[\"type\"].cat.codes.replace(-1, np.nan).interpolate().astype(int).astype('category').cat.rename_categories(df_rating[\"type\"].cat.categories))\n",
    "print(df_rating.rating.unique()) \n",
    "print(df_rating.isnull().sum().to_frame('nulls'))"
   ]
  },
  {
   "cell_type": "code",
   "execution_count": 3,
   "metadata": {},
   "outputs": [],
   "source": [
    "#Most popular Filmler (her filmin aldığı rating değerlerini topluyoruz En çok toplama göre sıralıyoruz)\n",
    "rating_count=pd.DataFrame(df_rating.groupby(['anime_id'])['rating'].sum())\n",
    "top10=rating_count.sort_values('rating',ascending=False).head(10)\n",
    "x=pd.merge(top10,df_rating,on='anime_id')\n"
   ]
  },
  {
   "cell_type": "code",
   "execution_count": 4,
   "metadata": {},
   "outputs": [
    {
     "name": "stdout",
     "output_type": "stream",
     "text": [
      "                                      name  anime_id  rating_x\n",
      "0                               Death Note      1535    302374\n",
      "34226                   Shingeki no Kyojin     16498    220674\n",
      "59516      Code Geass: Hangyaku no Lelouch      1575    215392\n",
      "83642                     Sword Art Online     11757    214169\n",
      "109952                        Angel Beats!      6547    201474\n",
      "133517    Fullmetal Alchemist: Brotherhood      5114    200383\n",
      "155011  Code Geass: Hangyaku no Lelouch R2      2904    191380\n",
      "176135                          Elfen Lied       226    189740\n",
      "199663                 Fullmetal Alchemist       121    180327\n",
      "220995                           Toradora!      4224    179132\n"
     ]
    }
   ],
   "source": [
    "# Keep First duplicte values \n",
    "Most_popular = x.drop_duplicates(subset=['anime_id'])\n",
    "Most_popular=Most_popular[['name','anime_id','rating_x']]\n",
    "print (Most_popular)"
   ]
  },
  {
   "cell_type": "code",
   "execution_count": null,
   "metadata": {},
   "outputs": [],
   "source": []
  }
 ],
 "metadata": {
  "kernelspec": {
   "display_name": "Python 3",
   "language": "python",
   "name": "python3"
  },
  "language_info": {
   "codemirror_mode": {
    "name": "ipython",
    "version": 3
   },
   "file_extension": ".py",
   "mimetype": "text/x-python",
   "name": "python",
   "nbconvert_exporter": "python",
   "pygments_lexer": "ipython3",
   "version": "3.7.4"
  }
 },
 "nbformat": 4,
 "nbformat_minor": 2
}
